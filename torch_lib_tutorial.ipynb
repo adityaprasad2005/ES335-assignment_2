{
 "cells": [
  {
   "cell_type": "code",
   "execution_count": null,
   "metadata": {},
   "outputs": [],
   "source": [
    "# Is pytoch and torch the same?\n",
    "# why do we use tensors in torch library to do anything(used for even storing scaler values)?"
   ]
  },
  {
   "cell_type": "code",
   "execution_count": null,
   "metadata": {},
   "outputs": [],
   "source": [
    "# What is Pytorch?\n",
    "# Pytorch is a popular deep learning framework and it's a replacement for numpy to use the power of GPUs.\n",
    "# Pytorch is a python library that provides two high-level features:\n",
    "# 1. Tensor computation (like numpy) with strong GPU acceleration\n",
    "# 2. Deep Neural Networks built on a tape-based autograd system\n",
    "# It is based on the torch library, which is a numerical computation library that has been in development since 2002."
   ]
  },
  {
   "cell_type": "code",
   "execution_count": 8,
   "metadata": {},
   "outputs": [
    {
     "name": "stdout",
     "output_type": "stream",
     "text": [
      "x tensor([-0.4365,  1.8214,  2.0338], requires_grad=True)\n",
      "y 5.827307224273682\n",
      "dy/dx  tensor([0.3757, 1.8809, 2.0226])\n",
      "Gradient at epoch 0 tensor([3., 3., 3.])\n",
      "Gradient at epoch 1 tensor([3., 3., 3.])\n",
      "Gradient at epoch 2 tensor([3., 3., 3.])\n"
     ]
    }
   ],
   "source": [
    "# How to use the torch.autograd package to define and differentiate functions?\n",
    "\n",
    "# The autograd package provides automatic differentiation for all operations on Tensors.\n",
    "# This framework allows us to work without any symbolic functions to compute gradients since it tracks the operations on the tensors.\n",
    "\n",
    "import torch\n",
    "\n",
    "# Put requires_grad= True whenever you want to compute the gradient wrt x tensor\n",
    "x= torch.randn(3, requires_grad= True)\n",
    "\n",
    "y= x**2 + 2*x + 1\n",
    "# y tensor is created as a result of an ** operation, so it has a grad_fn\n",
    "\n",
    "print(f\"x {x}\")\n",
    "\n",
    "# torch.autograd works only on scaler tensors diff by a scaler/vector tensor\n",
    "y= y.mean()\n",
    "print(f\"y {y}\")\n",
    "\n",
    "# To compute the gradients, you need to call the .backward() method on a Tensor object\n",
    "y.backward()  # dy/dx\n",
    "\n",
    "print(f\"dy/dx  {x.grad}\")\n",
    "\n",
    "# The gradients are stored in the .grad attribute of the tensor and they are accumulated whenever .backward() is called on the tensor.\n",
    "# To prevent the gradients from being accumulated, you can zero them out by calling the .zero_() method on the tensor.\n",
    "\n",
    "for epoch in range(3):\n",
    "    # x.grad.zero_()\n",
    "\n",
    "    model_output= (3*x).sum()\n",
    "    model_output.backward()\n",
    "\n",
    "    print(f\"Gradient at epoch {epoch} {x.grad}\")"
   ]
  }
 ],
 "metadata": {
  "kernelspec": {
   "display_name": "Python 3",
   "language": "python",
   "name": "python3"
  },
  "language_info": {
   "codemirror_mode": {
    "name": "ipython",
    "version": 3
   },
   "file_extension": ".py",
   "mimetype": "text/x-python",
   "name": "python",
   "nbconvert_exporter": "python",
   "pygments_lexer": "ipython3",
   "version": "3.11.3"
  }
 },
 "nbformat": 4,
 "nbformat_minor": 2
}
